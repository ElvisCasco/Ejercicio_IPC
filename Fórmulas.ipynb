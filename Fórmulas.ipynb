{
 "cells": [
  {
   "cell_type": "raw",
   "id": "b20052ee",
   "metadata": {},
   "source": [
    "---\n",
    "title: Fórmulas\n",
    "author: Elvis Casco\n",
    "crossref:\n",
    "  fig-title: Gráfico\n",
    "  tbl-title: Tabla\n",
    "  fig-prefix: Gráfico\n",
    "  tbl-prefix: Tabla\n",
    "format:\n",
    "  html:\n",
    "    toc: true\n",
    "    code-fold: true\n",
    "    echo: false\n",
    "    warnings: false\n",
    "    keep-ipynb: true\n",
    "---"
   ]
  },
  {
   "cell_type": "markdown",
   "id": "859ae5f9",
   "metadata": {},
   "source": [
    "# Índices \n",
    "\n",
    "# Lowe:\n",
    "\n",
    "El período cuyas cantidades efectivamente se utilizan en el IPC se conoce como *período de referencia de las ponderaciones*, y se denotará como período $b$. El período 0 es el período de referencia de los precios.\n",
    "\n",
    "Sea $n$ la cantidad de productos en una canasta con precios $p_i$ y cantidades $q_i$, y sean 0 y $t$ los dos períodos que se comparan. \n",
    "\n",
    "El índice de Lowe $P_{Lo}$ para el producto $i$ de la región $r$ se define de la siguiente manera:\n",
    "\n",
    "$P_{Lo}=\\frac{\\sum_{i=1}^n p_i^t q_i}{\\sum_{i=1}^n p_0^t q_i}$\n",
    "\n",
    "El índice de Lowe que utiliza las cantidades del período $b$ puede expresarse de la siguiente forma:\n",
    "\n",
    "$P_{Lo}=\\frac{\\sum_{i=1}^n p_i^t q_i^b}{\\sum_{i=1}^n p_i^0 q_i^b}$\n",
    "\n",
    "$P_{Lo}=\\sum_{i=1}^n \\frac{p_i^t}{p_i^0} s_i^{0b}$\n",
    "\n",
    "donde\n",
    "\n",
    "$s_i^{0b}=\\frac{p_i^0q_i^b}{\\sum_{i=1}^n p_i^0q_i^b}$\n",
    "\n",
    "2. Índice de Precios por Establecimiento (e) y Variedad (V)\n",
    "\n",
    "$i_{ev}^r = \\frac{\\frac{p_{ev,t}^r}{c_{ev,t}^r}}{\\frac{p_{ev,t-1}^r}{c_{ev,t-1}^r}}$\n",
    "\n",
    "3. Índice de Precios por Variedad: Media Geométrica\n",
    "\n",
    "$i_V^r = \\sqrt[n]{{i_{ev_1}^r,i_{ev_2}^r,...,i_{ev_n}^r}} \\text{ for v in } V^r$\n",
    "\n",
    "$i_V^r = \\exp (\\frac{{\\ln i_{ev_1}^r + \\ln i_{ev_2}^r +...+\\ln i_{ev_n}^r}}{n}) \\text{ for v in } V^r$\n",
    "\n",
    "4. Índice de Precios por Producto (X): Media Geométrica\n",
    "\n",
    "$i_X^r = \\sqrt[n]{{i_{V_1}^r,i_{V_2}^r,...,i_{V_n}^r}} \\text{ for V in } X^r$\n",
    "\n",
    "$i_X^r = \\exp (\\frac{{\\ln i_{V_1}^r + \\ln i_{V_2}^r +...+\\ln i_{V_n}^r}}{n}) \\text{ for V in } X^r$\n",
    "\n",
    "$Indice\\_Pond^r$ = $i_X^r * w_X^r$\n",
    "\n",
    "$IPC^r$ = $\\sum{Indice\\_Pond^r}$\n",
    "\n",
    "$w_A^r = \\frac{w_X^r}{\\sum w_X^r} \\text{ for X in } A^r$\n",
    "\n",
    "$i_A^r = \\sum i_X^r * \\frac{w_X^r}{w_A^r} \\text{ for X in } A^r$"
   ]
  }
 ],
 "metadata": {
  "kernelspec": {
   "display_name": "Python 3 (ipykernel)",
   "language": "python",
   "name": "python3"
  },
  "language_info": {
   "codemirror_mode": {
    "name": "ipython",
    "version": 3
   },
   "file_extension": ".py",
   "mimetype": "text/x-python",
   "name": "python",
   "nbconvert_exporter": "python",
   "pygments_lexer": "ipython3",
   "version": "3.11.4"
  }
 },
 "nbformat": 4,
 "nbformat_minor": 5
}
